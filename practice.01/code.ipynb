{
 "cells": [
  {
   "cell_type": "code",
   "execution_count": 1,
   "id": "c92fffb3",
   "metadata": {},
   "outputs": [],
   "source": [
    "import numpy as np\n",
    "import pandas as pd\n",
    "import seaborn as sns\n",
    "import matplotlib.pyplot as plt"
   ]
  },
  {
   "cell_type": "code",
   "execution_count": 56,
   "id": "e9877a69",
   "metadata": {},
   "outputs": [],
   "source": [
    "df = pd.read_csv(\"Untitled_cereal.csv\")"
   ]
  },
  {
   "cell_type": "markdown",
   "id": "d8bf8344",
   "metadata": {},
   "source": [
    "# Understanding the data"
   ]
  },
  {
   "cell_type": "code",
   "execution_count": 57,
   "id": "277e0432",
   "metadata": {},
   "outputs": [
    {
     "data": {
      "text/plain": [
       "(77, 16)"
      ]
     },
     "execution_count": 57,
     "metadata": {},
     "output_type": "execute_result"
    }
   ],
   "source": [
    "df.shape"
   ]
  },
  {
   "cell_type": "code",
   "execution_count": 58,
   "id": "5aff0d1c",
   "metadata": {},
   "outputs": [
    {
     "data": {
      "text/html": [
       "<div>\n",
       "<style scoped>\n",
       "    .dataframe tbody tr th:only-of-type {\n",
       "        vertical-align: middle;\n",
       "    }\n",
       "\n",
       "    .dataframe tbody tr th {\n",
       "        vertical-align: top;\n",
       "    }\n",
       "\n",
       "    .dataframe thead th {\n",
       "        text-align: right;\n",
       "    }\n",
       "</style>\n",
       "<table border=\"1\" class=\"dataframe\">\n",
       "  <thead>\n",
       "    <tr style=\"text-align: right;\">\n",
       "      <th></th>\n",
       "      <th>name</th>\n",
       "      <th>mfr</th>\n",
       "      <th>type</th>\n",
       "      <th>calories</th>\n",
       "      <th>protein</th>\n",
       "      <th>fat</th>\n",
       "      <th>sodium</th>\n",
       "      <th>fiber</th>\n",
       "      <th>carbo</th>\n",
       "      <th>sugars</th>\n",
       "      <th>potass</th>\n",
       "      <th>vitamins</th>\n",
       "      <th>shelf</th>\n",
       "      <th>weight</th>\n",
       "      <th>cups</th>\n",
       "      <th>rating</th>\n",
       "    </tr>\n",
       "  </thead>\n",
       "  <tbody>\n",
       "    <tr>\n",
       "      <th>0</th>\n",
       "      <td>100% Bran</td>\n",
       "      <td>N</td>\n",
       "      <td>C</td>\n",
       "      <td>70</td>\n",
       "      <td>4</td>\n",
       "      <td>1</td>\n",
       "      <td>130</td>\n",
       "      <td>10.0</td>\n",
       "      <td>5.0</td>\n",
       "      <td>6</td>\n",
       "      <td>280</td>\n",
       "      <td>25</td>\n",
       "      <td>3</td>\n",
       "      <td>1.0</td>\n",
       "      <td>0.33</td>\n",
       "      <td>68.402973</td>\n",
       "    </tr>\n",
       "    <tr>\n",
       "      <th>1</th>\n",
       "      <td>100% Natural Bran</td>\n",
       "      <td>Q</td>\n",
       "      <td>C</td>\n",
       "      <td>120</td>\n",
       "      <td>3</td>\n",
       "      <td>5</td>\n",
       "      <td>15</td>\n",
       "      <td>2.0</td>\n",
       "      <td>8.0</td>\n",
       "      <td>8</td>\n",
       "      <td>135</td>\n",
       "      <td>0</td>\n",
       "      <td>3</td>\n",
       "      <td>1.0</td>\n",
       "      <td>1.00</td>\n",
       "      <td>33.983679</td>\n",
       "    </tr>\n",
       "  </tbody>\n",
       "</table>\n",
       "</div>"
      ],
      "text/plain": [
       "                name mfr type  calories  protein  fat  sodium  fiber  carbo  \\\n",
       "0          100% Bran   N    C        70        4    1     130   10.0    5.0   \n",
       "1  100% Natural Bran   Q    C       120        3    5      15    2.0    8.0   \n",
       "\n",
       "   sugars  potass  vitamins  shelf  weight  cups     rating  \n",
       "0       6     280        25      3     1.0  0.33  68.402973  \n",
       "1       8     135         0      3     1.0  1.00  33.983679  "
      ]
     },
     "execution_count": 58,
     "metadata": {},
     "output_type": "execute_result"
    }
   ],
   "source": [
    "df.head(2)"
   ]
  },
  {
   "cell_type": "code",
   "execution_count": 59,
   "id": "d8bf7a75",
   "metadata": {},
   "outputs": [
    {
     "data": {
      "text/plain": [
       "0"
      ]
     },
     "execution_count": 59,
     "metadata": {},
     "output_type": "execute_result"
    }
   ],
   "source": [
    "df.duplicated().sum()"
   ]
  },
  {
   "cell_type": "code",
   "execution_count": 60,
   "id": "795362d0",
   "metadata": {},
   "outputs": [],
   "source": [
    "df.dropna(inplace=True)"
   ]
  },
  {
   "cell_type": "code",
   "execution_count": 62,
   "id": "8b66efd4",
   "metadata": {},
   "outputs": [],
   "source": [
    "df.drop(\"name\",inplace=True,axis=1)"
   ]
  },
  {
   "cell_type": "code",
   "execution_count": 63,
   "id": "c99e10a6",
   "metadata": {},
   "outputs": [
    {
     "data": {
      "text/plain": [
       "mfr\n",
       "K    23\n",
       "G    22\n",
       "P     9\n",
       "Q     8\n",
       "R     8\n",
       "N     6\n",
       "A     1\n",
       "Name: count, dtype: int64"
      ]
     },
     "execution_count": 63,
     "metadata": {},
     "output_type": "execute_result"
    }
   ],
   "source": [
    " df[\"mfr\"].value_counts()"
   ]
  },
  {
   "cell_type": "code",
   "execution_count": 64,
   "id": "90743813",
   "metadata": {},
   "outputs": [
    {
     "data": {
      "text/plain": [
       "type\n",
       "C    74\n",
       "H     3\n",
       "Name: count, dtype: int64"
      ]
     },
     "execution_count": 64,
     "metadata": {},
     "output_type": "execute_result"
    }
   ],
   "source": [
    "df[\"type\"].value_counts()"
   ]
  },
  {
   "cell_type": "markdown",
   "id": "4601347b",
   "metadata": {},
   "source": [
    "# EDA Data Analysis"
   ]
  },
  {
   "cell_type": "code",
   "execution_count": 65,
   "id": "049d6bd8",
   "metadata": {},
   "outputs": [
    {
     "data": {
      "text/html": [
       "<div>\n",
       "<style scoped>\n",
       "    .dataframe tbody tr th:only-of-type {\n",
       "        vertical-align: middle;\n",
       "    }\n",
       "\n",
       "    .dataframe tbody tr th {\n",
       "        vertical-align: top;\n",
       "    }\n",
       "\n",
       "    .dataframe thead th {\n",
       "        text-align: right;\n",
       "    }\n",
       "</style>\n",
       "<table border=\"1\" class=\"dataframe\">\n",
       "  <thead>\n",
       "    <tr style=\"text-align: right;\">\n",
       "      <th></th>\n",
       "      <th>mfr</th>\n",
       "      <th>type</th>\n",
       "      <th>calories</th>\n",
       "      <th>protein</th>\n",
       "      <th>fat</th>\n",
       "      <th>sodium</th>\n",
       "      <th>fiber</th>\n",
       "      <th>carbo</th>\n",
       "      <th>sugars</th>\n",
       "      <th>potass</th>\n",
       "      <th>vitamins</th>\n",
       "      <th>shelf</th>\n",
       "      <th>weight</th>\n",
       "      <th>cups</th>\n",
       "      <th>rating</th>\n",
       "    </tr>\n",
       "  </thead>\n",
       "  <tbody>\n",
       "    <tr>\n",
       "      <th>0</th>\n",
       "      <td>N</td>\n",
       "      <td>C</td>\n",
       "      <td>70</td>\n",
       "      <td>4</td>\n",
       "      <td>1</td>\n",
       "      <td>130</td>\n",
       "      <td>10.0</td>\n",
       "      <td>5.0</td>\n",
       "      <td>6</td>\n",
       "      <td>280</td>\n",
       "      <td>25</td>\n",
       "      <td>3</td>\n",
       "      <td>1.0</td>\n",
       "      <td>0.33</td>\n",
       "      <td>68.402973</td>\n",
       "    </tr>\n",
       "    <tr>\n",
       "      <th>1</th>\n",
       "      <td>Q</td>\n",
       "      <td>C</td>\n",
       "      <td>120</td>\n",
       "      <td>3</td>\n",
       "      <td>5</td>\n",
       "      <td>15</td>\n",
       "      <td>2.0</td>\n",
       "      <td>8.0</td>\n",
       "      <td>8</td>\n",
       "      <td>135</td>\n",
       "      <td>0</td>\n",
       "      <td>3</td>\n",
       "      <td>1.0</td>\n",
       "      <td>1.00</td>\n",
       "      <td>33.983679</td>\n",
       "    </tr>\n",
       "  </tbody>\n",
       "</table>\n",
       "</div>"
      ],
      "text/plain": [
       "  mfr type  calories  protein  fat  sodium  fiber  carbo  sugars  potass  \\\n",
       "0   N    C        70        4    1     130   10.0    5.0       6     280   \n",
       "1   Q    C       120        3    5      15    2.0    8.0       8     135   \n",
       "\n",
       "   vitamins  shelf  weight  cups     rating  \n",
       "0        25      3     1.0  0.33  68.402973  \n",
       "1         0      3     1.0  1.00  33.983679  "
      ]
     },
     "execution_count": 65,
     "metadata": {},
     "output_type": "execute_result"
    }
   ],
   "source": [
    "df.head(2)"
   ]
  },
  {
   "cell_type": "code",
   "execution_count": 66,
   "id": "cd7dbc90",
   "metadata": {},
   "outputs": [
    {
     "data": {
      "image/png": "[encoded data removed]",
      "text/plain": [
       "<Figure size 640x480 with 1 Axes>"
      ]
     },
     "metadata": {},
     "output_type": "display_data"
    }
   ],
   "source": [
    "a = sns.barplot(x=\"mfr\",y=\"calories\",data=df)\n",
    "for bars in a.containers:\n",
    "    a.bar_label(bars)\n",
    "plt.show()"
   ]
  },
  {
   "cell_type": "markdown",
   "id": "e5a288a5",
   "metadata": {},
   "source": [
    "## Summary of the data"
   ]
  },
  {
   "cell_type": "markdown",
   "id": "2a1fd0d2",
   "metadata": {},
   "source": [
    "## Highest amount:\n",
    "<p>Calories range : 100-120(count46)</p>\n",
    "<p>Proteins : 2,3</p>\n",
    "<p>Fat : 0,1</p>\n",
    "<p>Carbo : 10-15</p>\n",
    "<p>Sugar : 4</p>\n",
    "<p>Potass : 0-150</p>\n",
    "<p>Vitamins : 25-35</p>\n",
    "<p>Shelf : 2.75-3.00</p>\n",
    "<p>Weight : 1.00</p>\n",
    "<p>Rating : 33-42</p>\n",
    "\n",
    "## Highes amount in mfr and type\n",
    "<p>Highest rating awarded to N-mfr .... H-type</p>\n",
    "<p>Higest protein has A-mfr .... H-type</p>\n",
    "<p>Higest fat has Q-mfr ..... C-type and H-type have same fat</p>\n",
    "<p>Higest vitamins has K-mfr and G-mfr ..... C-type</p>\n",
    "<p>Higest sugars has P-mfr .... C-type</p>\n",
    "<p>All mfr .... and type have same calories</p>\n",
    "<p></p>\n",
    "<p></p>"
   ]
  },
  {
   "cell_type": "markdown",
   "id": "beefb38b",
   "metadata": {},
   "source": [
    "# Splitting data"
   ]
  },
  {
   "cell_type": "code",
   "execution_count": 67,
   "id": "07f13b37",
   "metadata": {},
   "outputs": [
    {
     "data": {
      "text/html": [
       "<div>\n",
       "<style scoped>\n",
       "    .dataframe tbody tr th:only-of-type {\n",
       "        vertical-align: middle;\n",
       "    }\n",
       "\n",
       "    .dataframe tbody tr th {\n",
       "        vertical-align: top;\n",
       "    }\n",
       "\n",
       "    .dataframe thead th {\n",
       "        text-align: right;\n",
       "    }\n",
       "</style>\n",
       "<table border=\"1\" class=\"dataframe\">\n",
       "  <thead>\n",
       "    <tr style=\"text-align: right;\">\n",
       "      <th></th>\n",
       "      <th>mfr</th>\n",
       "      <th>type</th>\n",
       "      <th>calories</th>\n",
       "      <th>protein</th>\n",
       "      <th>fat</th>\n",
       "      <th>sodium</th>\n",
       "      <th>fiber</th>\n",
       "      <th>carbo</th>\n",
       "      <th>sugars</th>\n",
       "      <th>potass</th>\n",
       "      <th>vitamins</th>\n",
       "      <th>shelf</th>\n",
       "      <th>weight</th>\n",
       "      <th>cups</th>\n",
       "      <th>rating</th>\n",
       "    </tr>\n",
       "  </thead>\n",
       "  <tbody>\n",
       "    <tr>\n",
       "      <th>0</th>\n",
       "      <td>N</td>\n",
       "      <td>C</td>\n",
       "      <td>70</td>\n",
       "      <td>4</td>\n",
       "      <td>1</td>\n",
       "      <td>130</td>\n",
       "      <td>10.0</td>\n",
       "      <td>5.0</td>\n",
       "      <td>6</td>\n",
       "      <td>280</td>\n",
       "      <td>25</td>\n",
       "      <td>3</td>\n",
       "      <td>1.0</td>\n",
       "      <td>0.33</td>\n",
       "      <td>68.402973</td>\n",
       "    </tr>\n",
       "    <tr>\n",
       "      <th>1</th>\n",
       "      <td>Q</td>\n",
       "      <td>C</td>\n",
       "      <td>120</td>\n",
       "      <td>3</td>\n",
       "      <td>5</td>\n",
       "      <td>15</td>\n",
       "      <td>2.0</td>\n",
       "      <td>8.0</td>\n",
       "      <td>8</td>\n",
       "      <td>135</td>\n",
       "      <td>0</td>\n",
       "      <td>3</td>\n",
       "      <td>1.0</td>\n",
       "      <td>1.00</td>\n",
       "      <td>33.983679</td>\n",
       "    </tr>\n",
       "  </tbody>\n",
       "</table>\n",
       "</div>"
      ],
      "text/plain": [
       "  mfr type  calories  protein  fat  sodium  fiber  carbo  sugars  potass  \\\n",
       "0   N    C        70        4    1     130   10.0    5.0       6     280   \n",
       "1   Q    C       120        3    5      15    2.0    8.0       8     135   \n",
       "\n",
       "   vitamins  shelf  weight  cups     rating  \n",
       "0        25      3     1.0  0.33  68.402973  \n",
       "1         0      3     1.0  1.00  33.983679  "
      ]
     },
     "execution_count": 67,
     "metadata": {},
     "output_type": "execute_result"
    }
   ],
   "source": [
    "df.head(2)"
   ]
  },
  {
   "cell_type": "code",
   "execution_count": 95,
   "id": "e0e07e26",
   "metadata": {},
   "outputs": [],
   "source": [
    "o = [\"fiber\",\"carbo\",\"weight\",\"cups\",\"rating\"]\n",
    "for item in o:\n",
    "    df[item] = df[item].astype(\"int32\")"
   ]
  },
  {
   "cell_type": "code",
   "execution_count": 97,
   "id": "26af8f81",
   "metadata": {},
   "outputs": [
    {
     "data": {
      "text/html": [
       "<div>\n",
       "<style scoped>\n",
       "    .dataframe tbody tr th:only-of-type {\n",
       "        vertical-align: middle;\n",
       "    }\n",
       "\n",
       "    .dataframe tbody tr th {\n",
       "        vertical-align: top;\n",
       "    }\n",
       "\n",
       "    .dataframe thead th {\n",
       "        text-align: right;\n",
       "    }\n",
       "</style>\n",
       "<table border=\"1\" class=\"dataframe\">\n",
       "  <thead>\n",
       "    <tr style=\"text-align: right;\">\n",
       "      <th></th>\n",
       "      <th>mfr</th>\n",
       "      <th>type</th>\n",
       "      <th>calories</th>\n",
       "      <th>protein</th>\n",
       "      <th>fat</th>\n",
       "      <th>sodium</th>\n",
       "      <th>fiber</th>\n",
       "      <th>carbo</th>\n",
       "      <th>sugars</th>\n",
       "      <th>potass</th>\n",
       "      <th>vitamins</th>\n",
       "      <th>shelf</th>\n",
       "      <th>weight</th>\n",
       "      <th>cups</th>\n",
       "      <th>rating</th>\n",
       "    </tr>\n",
       "  </thead>\n",
       "  <tbody>\n",
       "    <tr>\n",
       "      <th>0</th>\n",
       "      <td>N</td>\n",
       "      <td>C</td>\n",
       "      <td>70</td>\n",
       "      <td>4</td>\n",
       "      <td>1</td>\n",
       "      <td>130</td>\n",
       "      <td>10</td>\n",
       "      <td>5</td>\n",
       "      <td>6</td>\n",
       "      <td>280</td>\n",
       "      <td>25</td>\n",
       "      <td>3</td>\n",
       "      <td>1</td>\n",
       "      <td>0</td>\n",
       "      <td>68</td>\n",
       "    </tr>\n",
       "    <tr>\n",
       "      <th>1</th>\n",
       "      <td>Q</td>\n",
       "      <td>C</td>\n",
       "      <td>120</td>\n",
       "      <td>3</td>\n",
       "      <td>5</td>\n",
       "      <td>15</td>\n",
       "      <td>2</td>\n",
       "      <td>8</td>\n",
       "      <td>8</td>\n",
       "      <td>135</td>\n",
       "      <td>0</td>\n",
       "      <td>3</td>\n",
       "      <td>1</td>\n",
       "      <td>1</td>\n",
       "      <td>33</td>\n",
       "    </tr>\n",
       "  </tbody>\n",
       "</table>\n",
       "</div>"
      ],
      "text/plain": [
       "  mfr type  calories  protein  fat  sodium  fiber  carbo  sugars  potass  \\\n",
       "0   N    C        70        4    1     130     10      5       6     280   \n",
       "1   Q    C       120        3    5      15      2      8       8     135   \n",
       "\n",
       "   vitamins  shelf  weight  cups  rating  \n",
       "0        25      3       1     0      68  \n",
       "1         0      3       1     1      33  "
      ]
     },
     "execution_count": 97,
     "metadata": {},
     "output_type": "execute_result"
    }
   ],
   "source": [
    "df.head(2)"
   ]
  },
  {
   "cell_type": "code",
   "execution_count": 98,
   "id": "8bbdc08c",
   "metadata": {},
   "outputs": [],
   "source": [
    "from sklearn.model_selection import train_test_split\n",
    "\n",
    "x = df.drop(\"rating\",axis=1)\n",
    "y = df[\"rating\"]\n",
    "x_train,x_test,y_train,y_test = train_test_split(x,y,test_size=.2,random_state=101)"
   ]
  },
  {
   "cell_type": "markdown",
   "id": "1dbbc004",
   "metadata": {},
   "source": [
    "## Categorical encoding"
   ]
  },
  {
   "cell_type": "code",
   "execution_count": 125,
   "id": "ba087ada",
   "metadata": {},
   "outputs": [],
   "source": [
    "from sklearn.preprocessing import OneHotEncoder\n",
    "from sklearn.compose import ColumnTransformer\n",
    "\n",
    "transformer = ColumnTransformer(\n",
    "    transformers=[\n",
    "        (\"trans1\",OneHotEncoder(drop=\"first\"),[\"mfr\"]),\n",
    "        (\"trans2\",OneHotEncoder(drop=\"first\"),[\"type\"])\n",
    "    ],\n",
    "    remainder=\"passthrough\")"
   ]
  },
  {
   "cell_type": "code",
   "execution_count": null,
   "id": "5775690b",
   "metadata": {},
   "outputs": [],
   "source": []
  },
  {
   "cell_type": "code",
   "execution_count": null,
   "id": "8020d24b",
   "metadata": {},
   "outputs": [],
   "source": []
  },
  {
   "cell_type": "code",
   "execution_count": 126,
   "id": "b0f2b334",
   "metadata": {},
   "outputs": [],
   "source": [
    "transformer.fit(x_train)\n",
    "x_train_new = transformer.transform(x_train)\n",
    "x_test_new = transformer.transform(x_test)"
   ]
  },
  {
   "cell_type": "code",
   "execution_count": 129,
   "id": "a481f660",
   "metadata": {},
   "outputs": [
    {
     "data": {
      "text/plain": [
       "(61, 19)"
      ]
     },
     "execution_count": 129,
     "metadata": {},
     "output_type": "execute_result"
    }
   ],
   "source": [
    "x_train_new.shape"
   ]
  },
  {
   "cell_type": "code",
   "execution_count": 130,
   "id": "15f2f667",
   "metadata": {},
   "outputs": [],
   "source": [
    "from sklearn.preprocessing import StandardScaler\n",
    "\n",
    "scaler = StandardScaler()\n",
    "x_train_new = scaler.fit_transform(x_train_new)\n",
    "x_test_new = scaler.transform(x_test_new)"
   ]
  },
  {
   "cell_type": "code",
   "execution_count": 131,
   "id": "2ba23812",
   "metadata": {},
   "outputs": [],
   "source": [
    "from sklearn.linear_model import LinearRegression\n",
    "\n",
    "model = LinearRegression()\n",
    "model.fit(x_train_new,y_train)\n",
    "\n",
    "out = model.predict(x_test_new)"
   ]
  },
  {
   "cell_type": "code",
   "execution_count": 132,
   "id": "5f0be4b2",
   "metadata": {},
   "outputs": [
    {
     "name": "stdout",
     "output_type": "stream",
     "text": [
      "Mean square error\n",
      "--------------------------------------------------------------------------------\n",
      "Mean error :  0.39741594066732333\n",
      "Root :  0.6304093437341513\n"
     ]
    }
   ],
   "source": [
    "from sklearn.metrics import mean_squared_error\n",
    "\n",
    "print(\"Mean square error\")\n",
    "print(\"--\"*40)\n",
    "mse = mean_squared_error(y_test,out)\n",
    "rmse = np.sqrt(mse)\n",
    "print(\"Mean error : \",mse)\n",
    "print(\"Root : \",rmse)"
   ]
  },
  {
   "cell_type": "code",
   "execution_count": 133,
   "id": "f879b808",
   "metadata": {},
   "outputs": [
    {
     "name": "stdout",
     "output_type": "stream",
     "text": [
      "Actual values | Predicted values\n",
      "--------------------------------------------------------------------------------\n",
      "   52.0 |    51.2\n",
      "   58.0 |    58.3\n",
      "   50.0 |    51.6\n",
      "   36.0 |    36.7\n",
      "   59.0 |    59.4\n",
      "   45.0 |    44.7\n",
      "   26.0 |    27.0\n",
      "   41.0 |    41.2\n",
      "   40.0 |    40.8\n",
      "   31.0 |    31.4\n",
      "   40.0 |    40.3\n",
      "   36.0 |    35.9\n",
      "   46.0 |    45.9\n",
      "   22.0 |    22.8\n",
      "   51.0 |    51.1\n",
      "   33.0 |    33.0\n"
     ]
    }
   ],
   "source": [
    "result = np.column_stack((y_test,out))\n",
    "print(\"Actual values | Predicted values\")\n",
    "print(\"--\"*40)\n",
    "for actual,predicted in result:\n",
    "    print(f\"{actual:7.1f} | {predicted:7.1f}\")\n",
    "\n"
   ]
  },
  {
   "cell_type": "code",
   "execution_count": 134,
   "id": "ea1c8de0",
   "metadata": {},
   "outputs": [
    {
     "name": "stdout",
     "output_type": "stream",
     "text": [
      "[-18.23789611 -25.29227207 -18.56109133  -3.74811475 -26.44763187\n",
      " -11.72591498   6.04439061  -8.18915636  -7.75414064   1.60970272\n",
      "  -7.27636771  -2.85812396 -12.85035693  10.21245625 -18.09938368\n",
      "   0.03490397]\n"
     ]
    }
   ],
   "source": [
    "# see results by differentiation\n",
    "residual = actual-out.reshape(-1)\n",
    "print(residual)"
   ]
  },
  {
   "cell_type": "code",
   "execution_count": null,
   "id": "6cce0ebd",
   "metadata": {},
   "outputs": [],
   "source": []
  },
  {
   "cell_type": "code",
   "execution_count": null,
   "id": "ba42047d",
   "metadata": {},
   "outputs": [],
   "source": []
  },
  {
   "cell_type": "code",
   "execution_count": null,
   "id": "d2c93376",
   "metadata": {},
   "outputs": [],
   "source": []
  },
  {
   "cell_type": "code",
   "execution_count": null,
   "id": "7f06ee46",
   "metadata": {},
   "outputs": [],
   "source": []
  }
 ],
 "metadata": {
  "kernelspec": {
   "display_name": "Python 3 (ipykernel)",
   "language": "python",
   "name": "python3"
  },
  "language_info": {
   "codemirror_mode": {
    "name": "ipython",
    "version": 3
   },
   "file_extension": ".py",
   "mimetype": "text/x-python",
   "name": "python",
   "nbconvert_exporter": "python",
   "pygments_lexer": "ipython3",
   "version": "3.11.3"
  }
 },
 "nbformat": 4,
 "nbformat_minor": 5
}
